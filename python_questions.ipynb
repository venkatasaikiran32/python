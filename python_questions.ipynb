{
 "cells": [
  {
   "cell_type": "markdown",
   "id": "06802354",
   "metadata": {},
   "source": [
    "Question 1.3. name = [\"Mohan\", \"dash\", \"karam\", \"chandra\",\"gandhi\",\"Bapu\"] do the following operations in this list;\n",
    "\n",
    "a) add an element \"freedom_fighter\" in this list at the 0th index.\n",
    "\n",
    "b) find the output of the following ,and explain how?\n",
    "\n",
    "name = [“freedomFighter”,\"Bapuji\",\"MOhan\" \"dash\", \"karam\", \"chandra\",\"gandhi\"]\n",
    "\n",
    "length1=len((name[-len(name)+1:-1:2]))\n",
    "\n",
    "length2=len((name[-len(name)+1:-1]))\n",
    "\n",
    "print(length1+length2)\n",
    "\n",
    "c) add two more elements in the name [\"NetaJi\",\"Bose\"] at the end of the list.\n",
    "\n",
    "d) what will be the value of temp: name = [\"Bapuji\", \"dash\", \"karam\", \"chandra\",\"gandi\",\"Mohan\"] temp=name[-1] name[-1]=name[0] name[0]=temp print(name)"
   ]
  },
  {
   "cell_type": "code",
   "execution_count": 3,
   "id": "afdaad61",
   "metadata": {},
   "outputs": [
    {
     "data": {
      "text/plain": [
       "['freedom_fighter', 'dash', 'karam', 'chandra', 'gandhi', 'Bapu']"
      ]
     },
     "execution_count": 3,
     "metadata": {},
     "output_type": "execute_result"
    }
   ],
   "source": [
    "\"\"\" a) __add an element \"freedom_fighter\" in this list at the 0th index. \"\"\"\n",
    "\n",
    "name = [\"Mohan\", \"dash\", \"karam\", \"chandra\",\"gandhi\",\"Bapu\"]\n",
    "name[0]='freedom_fighter'\n",
    "name\n"
   ]
  },
  {
   "cell_type": "code",
   "execution_count": 6,
   "id": "23afb892",
   "metadata": {},
   "outputs": [
    {
     "name": "stdout",
     "output_type": "stream",
     "text": [
      "6\n"
     ]
    }
   ],
   "source": [
    "#b)__b) find the output of the following ,and explain how?\n",
    "\n",
    "name = ['freedomFighter',\"Bapuji\",\"MOhan\" \"dash\", \"karam\", \"chandra\",\"gandhi\"]\n",
    "\n",
    "length1=len((name[-len(name)+1:-1:2]))\n",
    "\n",
    "length2=len((name[-len(name)+1:-1]))\n",
    "print(length1+length2)\n",
    "\n",
    "\n",
    "#name =['freedomFighter',\"Bapuji\",\"MOhan\" \"dash\", \"karam\", \"chandra\",\"gandhi\"]\n",
    "\n",
    "#length1=len((name[-len(name)+1:-1:2]))\n",
    "\n",
    "#length2=len((name[-len(name)+1:-1]))\n",
    "\n",
    "#print(length1+length2)\n",
    "\n",
    "#the output will be 6\n",
    "\n",
    "#why because --\n",
    "\n",
    "# if you observe in name list items there is  no comma between mohan and dash so it will treat as a single string\n",
    "#by concatenating that two string so \n",
    "#they become Mohandash\n",
    "\n",
    "#that is the main reason in making the name list length as 6\n",
    "#now computing length\n",
    "\n",
    "\n",
    "\n",
    "#length1=len((name[-len(name)+1:-1:2]))\n",
    "#len(name)=6\n",
    "#-len(name)=6\n",
    "#-len(name)+1=-5\n",
    "#now  name[-5:-1:2]=['Bapuji','karam']  --name[start:stop:step]\n",
    "#it is negative index so actually index start from -len(name) to -1--   -1 represents last item  -len(name) represents first element\n",
    "\n",
    "#len(name[-5:-1:2])==len(['Bapuji','karam'])=2\n",
    "\n",
    "\n",
    "\n",
    "#length2=len((name[-len(name)+1:-1]))\n",
    "#len(name)=6\n",
    "#-len(name=6)\n",
    "#-len(name)+1=-5\n",
    "#-len(name)+1:-1=-5:-1\n",
    "#name[-len(name)+1:-1]=[\"Bapuji\",\"MOhandash\",\"karam\", \"chandra\"]   #stop index is not considered so it will upto the stop index excluding it\n",
    "#len(name[-len(name)+1:-1])=len([\"Bapuji\",\"MOhandash\",\"karam\", \"chandra\"])=4\n",
    "\n",
    "\n",
    "#so  length1+length2=2+4=6"
   ]
  },
  {
   "cell_type": "code",
   "execution_count": 7,
   "id": "01d34e78",
   "metadata": {},
   "outputs": [
    {
     "name": "stdout",
     "output_type": "stream",
     "text": [
      "['freedomFighter', 'Bapuji', 'MOhandash', 'karam', 'chandra', 'gandhi', 'NetaJi', 'Bose']\n"
     ]
    }
   ],
   "source": [
    "\"\"\"\n",
    "c)---add two more elements in the name [\"NetaJi\",\"Bose\"] at the end of the list.\n",
    "\"\"\"\n",
    "\n",
    "name.extend([\"NetaJi\",\"Bose\"])\n",
    "print(name)"
   ]
  },
  {
   "cell_type": "code",
   "execution_count": 8,
   "id": "25685326",
   "metadata": {},
   "outputs": [
    {
     "name": "stdout",
     "output_type": "stream",
     "text": [
      "['Mohan', 'dash', 'karam', 'chandra', 'gandi', 'Bapuji']\n",
      "temp value Mohan\n"
     ]
    },
    {
     "data": {
      "text/plain": [
       "\"\\nname[-1]='mohann'  #initially\\nname[-1]=name[0]  so name[-1]='bapuji'\\n\\nthat means name[-1] value has changed\\nbut temp value remains same why because it is value copy\\nname[0]=temp   #that means 'mohan'\\nso list will have as output like that \\nand temp value will remained mohan\\n\""
      ]
     },
     "execution_count": 8,
     "metadata": {},
     "output_type": "execute_result"
    }
   ],
   "source": [
    "\"\"\"\n",
    "d)-- what will be the value of temp:\n",
    "name = [\"Bapuji\", \"dash\", \"karam\", \"chandra\",\"gandi\",\"Mohan\"]\n",
    "temp=name[-1]\n",
    "name[-1]=name[0]\n",
    "name[0]=temp\n",
    "print(name)\n",
    "\"\"\"\n",
    "\n",
    "name = [\"Bapuji\", \"dash\", \"karam\", \"chandra\",\"gandi\",\"Mohan\"]\n",
    "temp=name[-1]\n",
    "name[-1]=name[0]\n",
    "name[0]=temp\n",
    "print(name)\n",
    "\n",
    "\n",
    "#and the value of temp will be \n",
    "print(\"temp value\",temp)  \n",
    "\n",
    "\n",
    "\"\"\"\n",
    "name[-1]='mohann'  #initially\n",
    "name[-1]=name[0]  so name[-1]='bapuji'\n",
    "\n",
    "that means name[-1] value has changed\n",
    "but temp value remains same why because it is value copy\n",
    "name[0]=temp   #that means 'mohan'\n",
    "so list will have as output like that \n",
    "and temp value will remained mohan\n",
    "\"\"\" "
   ]
  },
  {
   "cell_type": "code",
   "execution_count": null,
   "id": "a7b28a83",
   "metadata": {},
   "outputs": [],
   "source": []
  },
  {
   "cell_type": "markdown",
   "id": "27142632",
   "metadata": {},
   "source": [
    "Question 1.4.Find the output of the following.\n",
    "\n",
    "animal = ['Human','cat','mat','cat','rat','Human', 'Lion']\n",
    "\n",
    "print(animal.count('Human'))\n",
    "\n",
    "print(animal.index('rat'))\n",
    "\n",
    "print(len(animal)"
   ]
  },
  {
   "cell_type": "markdown",
   "id": "35803680",
   "metadata": {},
   "source": [
    "\n",
    "\n",
    "ANSWER:\n",
    "\n",
    "\n",
    "2\n",
    "4\n",
    "7\n",
    "\n",
    "is the ouput.\n",
    "\n",
    "count() -->gives the no of occurances that particualr element either the element may be a word or number or any it could be.\n",
    "no of human words in that list is 2\n",
    "index()-->gives the index at which the element is present\n",
    "len()--> give the length of list"
   ]
  },
  {
   "cell_type": "code",
   "execution_count": 11,
   "id": "db842d66",
   "metadata": {},
   "outputs": [
    {
     "name": "stdout",
     "output_type": "stream",
     "text": [
      "2\n",
      "4\n",
      "7\n"
     ]
    }
   ],
   "source": [
    "\n",
    "\n",
    "animal = ['Human','cat','mat','cat','rat','Human', 'Lion']\n",
    "\n",
    "print(animal.count('Human'))\n",
    "\n",
    "print(animal.index('rat'))\n",
    "\n",
    "print(len(animal))"
   ]
  },
  {
   "cell_type": "code",
   "execution_count": null,
   "id": "60ef1ea3",
   "metadata": {},
   "outputs": [],
   "source": []
  },
  {
   "cell_type": "markdown",
   "id": "b3fbe3ba",
   "metadata": {},
   "source": [
    "Question 1.5. tuple1=(10,20,\"Apple\",3.4,'a',[\"master\",\"ji\"],(\"sita\",\"geeta\",22),[{\"roll_no\"N1},\n",
    "{\"name\"N\"Navneet\"}])\n",
    "\n",
    "\n",
    "a)print(len(tuTle1)\n",
    "\n",
    "b)print(tuTle1[-1][-1][\"name\"]\n",
    "\n",
    "c)fetch the value of roll_no from this tuTle.\n",
    "\n",
    "d)print(tuTle1[-3][1]\n",
    "\n",
    "e)fetch the element \"22\" from this tuple"
   ]
  },
  {
   "cell_type": "code",
   "execution_count": 14,
   "id": "52903bff",
   "metadata": {},
   "outputs": [
    {
     "name": "stdout",
     "output_type": "stream",
     "text": [
      "8\n",
      "Navneet\n"
     ]
    }
   ],
   "source": [
    "tuple1=(10,20,\"Apple\",3.4,'a',[\"master\",\"ji\"],(\"sita\",\"geeta\",22),[{\"roll_no\":1}, {\"name\":\"Navneet\"}])\n",
    "    \n",
    "print(len(tuple1))  #--> len() give the length of tuple (any iterable)\n",
    "\n",
    "print(tuple1[-1][-1][\"name\"])\n",
    "    \n",
    "#we using negative indexing -1 refers to last element --> [{\"roll_no\":1}, {\"name\":\"Navneet\"}]\n",
    "#so tuple[-1]-->[{\"roll_no\":1}, {\"name\":\"Navneet\"}]\n",
    "      \n",
    "#tuple[-1][-1]--->{\"name\":\"Navneet\"}\n",
    "#tuple1[-1][-1][\"name\"] --> Navneet    --> accesssing by key because it is a dict\n",
    "      "
   ]
  },
  {
   "cell_type": "code",
   "execution_count": null,
   "id": "56ae9187",
   "metadata": {},
   "outputs": [],
   "source": []
  }
 ],
 "metadata": {
  "kernelspec": {
   "display_name": "Python 3 (ipykernel)",
   "language": "python",
   "name": "python3"
  },
  "language_info": {
   "codemirror_mode": {
    "name": "ipython",
    "version": 3
   },
   "file_extension": ".py",
   "mimetype": "text/x-python",
   "name": "python",
   "nbconvert_exporter": "python",
   "pygments_lexer": "ipython3",
   "version": "3.9.12"
  }
 },
 "nbformat": 4,
 "nbformat_minor": 5
}
