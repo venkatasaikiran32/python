{
 "cells": [
  {
   "cell_type": "markdown",
   "id": "fa749e0e",
   "metadata": {},
   "source": [
    "16. Write a Python program to create a text file named \"employees.txt\" and write the details of employees, \n",
    "including their name, age, and salary, into the file"
   ]
  },
  {
   "cell_type": "code",
   "execution_count": 1,
   "id": "3a16fff6",
   "metadata": {},
   "outputs": [
    {
     "name": "stdout",
     "output_type": "stream",
     "text": [
      "Employee details have been written to employees.txt.\n"
     ]
    }
   ],
   "source": [
    "def create_employee_file(file_path, employee_data):\n",
    "    \"\"\"\n",
    "    it will Creates a text file and writes employee details to it.\n",
    "    \"\"\"\n",
    "    f=open(file_path,'a')\n",
    "    for name, age, salary in employee_data:\n",
    "        line = f\"Name: {name}, Age: {age}, Salary: {salary}\\n\"\n",
    "        f.write(line)\n",
    "    f.close()\n",
    "        \n",
    "\n",
    "#  employees data\n",
    "employees = [\n",
    "    (\"sai kumar\", 30, 98000),\n",
    "    (\"krish naik\", 40, 120000),\n",
    "    (\"sudhansh kumar\", 37, 95000),\n",
    "    (\"ajay kumar\", 29, 70000)\n",
    "]\n",
    "\n",
    "# Path to the file\n",
    "file_path = 'employees.txt'\n",
    "\n",
    "# Creating  the file and writing  employee details\n",
    "create_employee_file(file_path, employees)\n",
    "\n",
    "print(f\"Employee details have been written to {file_path}.\")\n"
   ]
  },
  {
   "cell_type": "markdown",
   "id": "02b4d2d5",
   "metadata": {},
   "source": [
    "17. Develop a Python script that opens an existing text file named \"inventory.txt\" in read mode and displays \n",
    "the contents of the file line by line"
   ]
  },
  {
   "cell_type": "code",
   "execution_count": 3,
   "id": "00c29517",
   "metadata": {},
   "outputs": [
    {
     "name": "stdout",
     "output_type": "stream",
     "text": [
      "exception occured: [Errno 2] No such file or directory: 'inventory.txt'\n"
     ]
    }
   ],
   "source": [
    "def read_and_display_file(file_path):\n",
    "    \"\"\"\n",
    "    \n",
    "    reading inventory.txt\n",
    "    it opens an existing text file in read mode \n",
    "    displaying  its contents line by line.\n",
    "    \"\"\"\n",
    "    \n",
    "    #using try - catch block because exception may occurs\n",
    "    try:\n",
    "        f=open(file_path,'r')\n",
    "        for line in f:\n",
    "            \n",
    "            print(line)\n",
    "        f.close()\n",
    "    except (FileNotFoundError,IOError) as e:\n",
    "        print('exception occured:',e)\n",
    "        \n",
    "        \n",
    "\n",
    "# file path\n",
    "file_path = 'inventory.txt'\n",
    "\n",
    "# Reading and displaying  the file contents\n",
    "read_and_display_file(file_path)\n"
   ]
  },
  {
   "cell_type": "markdown",
   "id": "8a0ee3e9",
   "metadata": {},
   "source": [
    "18. Create a Python script that reads a text file named \"expenses.txt\" and calculates the total amount spent \n",
    "on various expenses listed in the file"
   ]
  },
  {
   "cell_type": "code",
   "execution_count": 5,
   "id": "441a80f2",
   "metadata": {},
   "outputs": [
    {
     "name": "stdout",
     "output_type": "stream",
     "text": [
      "The file expenses.txt does not exist.\n",
      "Total amount spent: $0.0\n"
     ]
    }
   ],
   "source": [
    "def calculate_total_expenses(file_path):\n",
    "    \"\"\"\n",
    "    it is used to reads a text file containing expenses and reeturns the  the total amount spent.\n",
    "    \"\"\"\n",
    "    total_amount = 0.0  #initial total amount\n",
    "    \n",
    "    \n",
    "    #we have to use try and except block because exception may raise\n",
    "    #like FileNotFoundError,IOError during file operation\n",
    "    \n",
    " \n",
    "    \n",
    "    try:\n",
    "        with open(file_path, 'r') as file:\n",
    "            for line in file:\n",
    "                line = line.strip()  # it Removes any leading/trailing whitespaces\n",
    "                if line:  # it checks the line is not empty\n",
    "                    try:\n",
    "                        amount = float(line)\n",
    "                        total_amount += amount\n",
    "                    except ValueError:\n",
    "                        print(f\"Skipping invalid line: '{line}' (not a valid number)\")\n",
    "    \n",
    "    except FileNotFoundError:\n",
    "        print(f\"The file {file_path} does not exist.\")\n",
    "    except IOError:\n",
    "        print(f\"An error occurred while trying to read the file {file_path}.\")\n",
    "    \n",
    "    return total_amount\n",
    "\n",
    "#file path\n",
    "file_path = 'expenses.txt'\n",
    "\n",
    "# Calculating  the total expenses\n",
    "total_expenses = calculate_total_expenses(file_path)\n",
    "print(f\"Total amount spent: ${total_expenses}\")\n"
   ]
  },
  {
   "cell_type": "markdown",
   "id": "2cc8424f",
   "metadata": {},
   "source": [
    "19. Create a Python program that reads a text file named \"paragraph.txt\" and counts the occurrences of \n",
    "each word in the paragraph, displaying the results in alphabetical order."
   ]
  },
  {
   "cell_type": "code",
   "execution_count": 6,
   "id": "09b7ec9a",
   "metadata": {},
   "outputs": [
    {
     "name": "stdout",
     "output_type": "stream",
     "text": [
      "The file paragraph.txt does not exist.\n"
     ]
    }
   ],
   "source": [
    "import re\n",
    "from collections import Counter\n",
    "\n",
    "def count_word_occurrences(file_path):\n",
    "    \"\"\"\n",
    "    it reads a text file and counts the occurrences of each word,\n",
    "    and displays the results in alphabetical order.\n",
    "    \"\"\"\n",
    "    word_count = Counter()\n",
    "    \n",
    "    try:\n",
    "        with open(file_path, 'r') as file:\n",
    "            text = file.read()\n",
    "            # Using regular expressions to find words and ignore punctuation\n",
    "            words = re.findall(r'\\b\\w+\\b', text.lower())  # it convert to lowercase and find words  -->case insensitive\n",
    "            word_count.update(words)\n",
    "    \n",
    "    except FileNotFoundError:\n",
    "        print(f\"The file {file_path} does not exist.\")\n",
    "        return {}\n",
    "    except IOError:\n",
    "        print(f\"An error occurred while trying to read the file {file_path}.\")\n",
    "        return {}\n",
    "    \n",
    "    # Sort the dictionary by key (word) and return\n",
    "    sorted_word_count = dict(sorted(word_count.items()))\n",
    "    return sorted_word_count\n",
    "\n",
    "def display_word_counts(word_counts):\n",
    "    \"\"\"\n",
    "   it  displays the word counts in alphabetical order. it gets input that is returned by count_word_occurences\n",
    "    \"\"\"\n",
    "    for word, count in word_counts.items():\n",
    "        print(f\"{word}: {count}\")\n",
    "\n",
    "# file path\n",
    "file_path = 'paragraph.txt'\n",
    "\n",
    "# counting word occurrences\n",
    "word_counts = count_word_occurrences(file_path)\n",
    "\n",
    "# displaying the results\n",
    "display_word_counts(word_counts)\n"
   ]
  },
  {
   "cell_type": "code",
   "execution_count": null,
   "id": "6f781023",
   "metadata": {},
   "outputs": [],
   "source": []
  }
 ],
 "metadata": {
  "kernelspec": {
   "display_name": "Python 3 (ipykernel)",
   "language": "python",
   "name": "python3"
  },
  "language_info": {
   "codemirror_mode": {
    "name": "ipython",
    "version": 3
   },
   "file_extension": ".py",
   "mimetype": "text/x-python",
   "name": "python",
   "nbconvert_exporter": "python",
   "pygments_lexer": "ipython3",
   "version": "3.9.12"
  }
 },
 "nbformat": 4,
 "nbformat_minor": 5
}
